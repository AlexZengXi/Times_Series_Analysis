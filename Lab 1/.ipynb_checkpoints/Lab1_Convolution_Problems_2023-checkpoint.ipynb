{
 "cells": [
  {
   "cell_type": "code",
   "execution_count": 1,
   "metadata": {
    "collapsed": true
   },
   "outputs": [],
   "source": [
    "%matplotlib inline\n",
    "import numpy as np\n",
    "import matplotlib.pyplot as plt"
   ]
  },
  {
   "cell_type": "markdown",
   "metadata": {},
   "source": [
    "# A Discrete Convolution Program (5 pts)"
   ]
  },
  {
   "cell_type": "markdown",
   "metadata": {},
   "source": [
    "Write a discrete convolution function `myConv` that convolves two arrays {$f_i, i = 0, \\dots , N_f-1$}\n",
    "and {$w_j, j = 0, \\dots , N_w-1$} to obtain an output time series {$g_n$}. For simplicity, assume a fixed sampling interval $\\Delta = 1$, and further, that $f$ and $w$ are $0$ outside of their sampled regions. \n",
    "\n",
    " 1. How long is {$g_n$}? In other words, how many non-zero points can it have? Justify your answer. \n",
    " 2. Please copy and paste your function `g = myConv(f, w)` to the PDF report.\n",
    " 3. Provide a test to convince yourself (and me) that your function agrees with `numpy.convolve`. For example, generate two random timeseries $f$, $w$ with $N_f=75$, $N_w=150$, drawing each element from $U[0,1]$, and plot the difference between your function's output and numpy's. Include the code for your test in the PDF report.\n",
    " 4. Compare the speed of your `myConv` function to the NumPy function. Provide a plot of the comparison, and include your python code in the PDF report. Is your function faster or slower than the NumPy function? Can you suggest why that is the case?\n",
    "\n",
    "_Hint_: For the speed test part, make up your own $f_i$ and $w_j$ time series, and for simplicity, study the cases\n",
    "of $N_f = N_w = 10, 100, 1000, 10000$. To accurately time each computation of the convolution function, import the\n",
    "time module and place calls to `time.time` around your code:\n",
    "```\n",
    "import time\n",
    "t1 = time.time()\n",
    "g = myConv(f, w)\n",
    "t2 = time.time()\n",
    "print(t2-t1)\n",
    "```\n",
    "Alternatively, use the `timeit` module:\n",
    "```\n",
    "import timeit\n",
    "print(timeit.timeit('g = myConv(f, w)', number=10000))\n",
    "```"
   ]
  },
  {
   "cell_type": "markdown",
   "metadata": {},
   "source": [
    "# Simple Physical System: RL Circuit Response (7 pts)"
   ]
  },
  {
   "cell_type": "markdown",
   "metadata": {},
   "source": [
    "Consider a simple physical system consisting of a resistor (with resistance `R`) and an inductor (with inductance `L`) in series.  We apply an input voltage $a(t)$ across the pair in series, and measure the output\n",
    "voltage $b(t)$ across the inductor alone. For this linear system,\n",
    "\n",
    " 1. Show analytically that its step response (i.e., the $b(t)$ we obtain when the input voltage $a(t) = H(t)$,\n",
    "    the Heaviside function) is given by\n",
    "\n",
    "    $$ S(t) = e^{-Rt/L} H(t), $$\n",
    "\n",
    "    and its impulse response (i.e., the output voltage $b(t)$ when $a(t) = \\delta(t)$) is given by\n",
    "\n",
    "    $$ R(t) = \\delta(t) - \\frac{R}{L} e^{-Rt/L} H(t). $$\n",
    "\n",
    "    _Hint_: Construct and solve the ODE relating the voltages under consideration. Consider the two $b(t)$ choices to derive $S(t)$ and $R(t)$. Formulas $\\frac{d}{dt} H(t) = \\delta(t)$ and $\\delta(t) f(t) = \\delta(t) f(0)$ may help.\n",
    " 2. Discretize the impulse response $R(t)$ function, realizing that $H(t)$ should be discretized as\n",
    "\n",
    "    $$H = [0.5, 1, 1, \\dots],$$\n",
    "\n",
    "    and $\\delta(t)$ should be discretized as\n",
    "\n",
    "    $$D = [1/dt, 0, 0, \\dots].$$\n",
    "\n",
    "    Take advantage of your `myConv` function, or the NumPy built-in function `convolve`, and write\n",
    "    your own Python function `V_out = RLresponse(R,L,V_in,dt)` to take an input series $V_{in}$ sampled\n",
    "    at $\\Delta = dt$, and calculate the output series $V_{out}$ sampled by the same $dt$. Please paste your\n",
    "    Python function here (if you are not using a jupyter notebook). (Hint: here $\\Delta$ may not be 1, so remember to build the multiplication of\n",
    "    $\\Delta$ into your convolution function.)\n",
    " 3. Using $R = 1000 \\Omega$, $L = 3 H$, and sampling period $dt = 0.25 \\text{ ms}$, test your RL-response\n",
    "    function with {$H_n$} series (discretized $H(t)$) as input, and plot the output time series (as circles) on\n",
    "    top of the theoretical curve $S(t)$ given by part 1 (as a solid line). Repeat this for {$D_n$} (discretized\n",
    "    $\\delta(t)$) and $R(t)$. Make the time range of the plots 0 to at least 25 ms. Please list your Python\n",
    "    code here (if you are not using a jupyter notebook)."
   ]
  },
  {
   "cell_type": "markdown",
   "metadata": {},
   "source": [
    "# Convolution of a thermal infrared Spectrum (8 pts)"
   ]
  },
  {
   "cell_type": "markdown",
   "metadata": {},
   "source": [
    "The Tropospheric Emission Spectrometer (TES) is a Fourier transform spectrometer that was launched by NASA on the Aura spacecraft in July 2004. The instrument measures radiation from the atmosphere in the thermal infrared region of the spectrum. The file `TES_spectra.txt` contains TES measurements on 10 July 2010 from the 2B1 filter on TES. In this spectral region, vertical profiles of atmopsheric temprature and water vapour can be retrieved. (The file contains the spectrum as a function of wavenumbers $\\tilde{\\nu} = 1/\\lambda$ in units of cm$^{-1}$). One way of simulating the spectrum that might be measured by a low-resolution version of TES is by convolving the TES high-resolution spectrum with the function $2\\Delta\\sin(2\\pi \\tilde{\\nu}\\Delta)/(2\\pi \\tilde{\\nu}\\Delta)$, where $\\Delta$ is a measure of the spectral resolution.\n",
    "\n",
    "1. Plot the TES spectrum as a function of wavenumber. \n",
    "2. Plot the function $2\\Delta\\sin(2\\pi \\tilde{\\nu}\\Delta)/(2\\pi \\tilde{\\nu}\\Delta)$ over the interval $\\tilde{\\nu}=[-3,3]$, with $\\Delta \\tilde{\\nu} = 0.06$ cm$^{-1}$, for values of $\\Delta = 1$ and $\\Delta =3$.\n",
    "3.\tUse numpy's convolve function to convolve the high-resolution spectrum in the file `TES_Spectra.txt` separately with the two curves in Part 2 (i.e., for $\\Delta = 1$ and $\\Delta = 3$).\n",
    "4.\tFor each of the two cases, plot the original and convolved time series over the wavenumber range $[700,750]$. Comment on the differences in the convolved time series between the two cases.\n",
    "5. Consider convolving the spectrum with the following Gaussian: $g(\\tilde{\\nu}) = \\frac{1}{\\sqrt{\\pi}L} e^{-(\\tilde{\\nu}/L)^2}.$\n",
    "\n",
    "   Plot The Guassian for $L=0.5$ (over the interval $\\tilde{\\nu}=[-3,3]$) and the timeseries of the convolution of the TES spectrum with the Gaussian (over the range [700,750]). Comment on the differences between the this convolved time series and those from Part 4.\n",
    "\n",
    "__Note__\n",
    "\n",
    "* The spectrum in  `TES_Spectra.txt` is given as a text file with two columns: the first column contains the wavenumber of the measurement (in units of cm$^{-1}$) and the second column has the spectral signal (in Watts cm$^{-2}$ sr$^{-1}$/cm$^{-1}$).\n",
    "* Use `mode='same'` when calling numpy convolve to truncate the convolution to the max of the supplied arrays (i.e. length of the high-resolution timeseries in our case). This is convenient, since we want to compare the convolution output to the original timeseries.  \n",
    "* As a check for Parts 4 and 5, ensure that your convolved timeseries is aligned with (or \"overlaps\") the original timeseries."
   ]
  }
 ],
 "metadata": {
  "kernelspec": {
   "display_name": "Python 3",
   "language": "python",
   "name": "python3"
  },
  "language_info": {
   "codemirror_mode": {
    "name": "ipython",
    "version": 3
   },
   "file_extension": ".py",
   "mimetype": "text/x-python",
   "name": "python",
   "nbconvert_exporter": "python",
   "pygments_lexer": "ipython3",
   "version": "3.8.8"
  }
 },
 "nbformat": 4,
 "nbformat_minor": 1
}
